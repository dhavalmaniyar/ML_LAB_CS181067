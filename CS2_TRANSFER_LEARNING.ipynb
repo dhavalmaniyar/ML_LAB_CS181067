{
  "nbformat": 4,
  "nbformat_minor": 0,
  "metadata": {
    "colab": {
      "name": "CS2_TRANSFER_LEARNING.ipynb",
      "provenance": [],
      "collapsed_sections": []
    },
    "kernelspec": {
      "name": "python3",
      "display_name": "Python 3"
    },
    "language_info": {
      "name": "python"
    }
  },
  "cells": [
    {
      "cell_type": "markdown",
      "metadata": {
        "id": "wi9uVSMIC7WD"
      },
      "source": [
        "\n",
        "VGG16 Transfer Learning Approach Deep Convolutional Neural networks may take days to train and require lots of computational resources. So to overcome this we will use Transfer Learning for implementing VGG16 with Keras.\n",
        "\n",
        "Transfer learning is a technique whereby a deep neural network model that was trained earlier on a similar problem is leveraged to create a new model at hand. One or more layers from the already trained model are used in the new model. We will go through more details in a subsequent section below.\n",
        "\n",
        "Define training and testing path of dataset It is necessary to put the images of both classes of dog and cat in separate subfolders under train and test folder"
      ]
    },
    {
      "cell_type": "code",
      "metadata": {
        "colab": {
          "base_uri": "https://localhost:8080/"
        },
        "id": "j3k6DIlTC6cN",
        "outputId": "ba2e831b-5516-4ac0-baa7-2580c1aee5ca"
      },
      "source": [
        "from google.colab import drive\n",
        "drive.mount('/content/gdrive')"
      ],
      "execution_count": 1,
      "outputs": [
        {
          "output_type": "stream",
          "text": [
            "Mounted at /content/gdrive\n"
          ],
          "name": "stdout"
        }
      ]
    },
    {
      "cell_type": "code",
      "metadata": {
        "id": "cV5teKQbDLet"
      },
      "source": [
        "import cv2\n",
        "import numpy as np\n",
        "import os\n",
        "from keras.preprocessing.image import ImageDataGenerator\n",
        "from keras.layers import Dense,Flatten,Conv2D,Activation,Dropout\n",
        "from keras import backend as K\n",
        "import keras\n",
        "from keras.models import Sequential, Model\n",
        "from keras.models import load_model\n",
        "from keras.optimizers import SGD\n",
        "from keras.callbacks import EarlyStopping,ModelCheckpoint\n",
        "from keras.layers import MaxPool2D\n",
        "from google.colab.patches import cv2_imshow"
      ],
      "execution_count": 2,
      "outputs": []
    },
    {
      "cell_type": "markdown",
      "metadata": {
        "id": "Jb0dDmw6DOzk"
      },
      "source": [
        "\n",
        "Preparation of datasets We generally encountered problems where we try to load a dataset but there is not enough memory in your machine.\n",
        "\n",
        "Keras provides the ImageDataGenerator class that defines the configuration for image data preparation and augmentation. The generator will progressively load the images in your dataset, allowing you to work with both small and very large datasets containing thousands or millions of images that may not fit into system memory."
      ]
    },
    {
      "cell_type": "code",
      "metadata": {
        "id": "XDkuZuqKDONV"
      },
      "source": [
        "train_path=\"/content/gdrive/MyDrive/Colab Notebooks/Train\"\n",
        "test_path=\"/content/gdrive/MyDrive/Colab Notebooks/Validation\"\n",
        "class_names=os.listdir(train_path)\n",
        "class_names_test=os.listdir(test_path)"
      ],
      "execution_count": null,
      "outputs": []
    },
    {
      "cell_type": "code",
      "metadata": {
        "id": "H6PpyZo1DXjK"
      },
      "source": [
        "\n",
        "train_path=\"/content/gdrive/MyDrive/Colab Notebooks/Train\"\n",
        "test_path=\"/content/gdrive/MyDrive/Colab Notebooks/Validation\"\n",
        "class_names=os.listdir(train_path)\n",
        "class_names_test=os.listdir(test_path)"
      ],
      "execution_count": null,
      "outputs": []
    },
    {
      "cell_type": "code",
      "metadata": {
        "id": "O4U9Z6EJDaQa"
      },
      "source": [
        "\n",
        "#Sample datasets images\n",
        "image_dog=cv2.imread(\"/content/gdrive/MyDrive/Colab Notebooks/Train/dog/dog001.jpg\")\n",
        "cv2_imshow(image_dog)\n",
        "image_cat=cv2.imread(\"/content/gdrive/MyDrive/Colab Notebooks/Train/cat/cat001.jpg\")\n",
        "cv2_imshow(image_cat)"
      ],
      "execution_count": null,
      "outputs": []
    },
    {
      "cell_type": "code",
      "metadata": {
        "id": "PwjlUMiyDcxN"
      },
      "source": [
        "train_datagen = ImageDataGenerator(zoom_range=0.15,width_shift_range=0.2,height_shift_range=0.2,shear_range=0.15)\n",
        "test_datagen = ImageDataGenerator()"
      ],
      "execution_count": null,
      "outputs": []
    },
    {
      "cell_type": "code",
      "metadata": {
        "id": "9gCwmqN4Deha"
      },
      "source": [
        "\n",
        "train_generator = train_datagen.flow_from_directory(\"/content/gdrive/MyDrive/Colab Notebooks/Train\",target_size=(224, 224),batch_size=32,shuffle=True,class_mode='binary')\n",
        "test_generator = test_datagen.flow_from_directory(\"/content/gdrive/MyDrive/Colab Notebooks/Validation\",target_size=(224,224),batch_size=32,shuffle=False,class_mode='binary')"
      ],
      "execution_count": null,
      "outputs": []
    },
    {
      "cell_type": "code",
      "metadata": {
        "id": "tvAnm544Dh5k"
      },
      "source": [
        "def VGG16():\n",
        "    model = Sequential()\n",
        "    model.add(Conv2D(input_shape=(224,224,3),filters=64,kernel_size=(3,3),padding=\"same\", activation=\"relu\"))\n",
        "    model.add(Conv2D(filters=64,kernel_size=(3,3),padding=\"same\", activation=\"relu\"))\n",
        "    model.add(MaxPool2D(pool_size=(2,2),strides=(2,2)))\n",
        "    model.add(Conv2D(filters=128, kernel_size=(3,3), padding=\"same\", activation=\"relu\"))\n",
        "    model.add(Conv2D(filters=128, kernel_size=(3,3), padding=\"same\", activation=\"relu\"))\n",
        "    model.add(MaxPool2D(pool_size=(2,2),strides=(2,2)))\n",
        "    model.add(Conv2D(filters=256, kernel_size=(3,3), padding=\"same\", activation=\"relu\"))\n",
        "    model.add(Conv2D(filters=256, kernel_size=(3,3), padding=\"same\", activation=\"relu\"))\n",
        "    model.add(Conv2D(filters=256, kernel_size=(3,3), padding=\"same\", activation=\"relu\"))\n",
        "    model.add(MaxPool2D(pool_size=(2,2),strides=(2,2)))\n",
        "    model.add(Conv2D(filters=512, kernel_size=(3,3), padding=\"same\", activation=\"relu\"))\n",
        "    model.add(Conv2D(filters=512, kernel_size=(3,3), padding=\"same\", activation=\"relu\"))\n",
        "    model.add(Conv2D(filters=512, kernel_size=(3,3), padding=\"same\", activation=\"relu\"))\n",
        "    model.add(MaxPool2D(pool_size=(2,2),strides=(2,2)))\n",
        "    model.add(Conv2D(filters=512, kernel_size=(3,3), padding=\"same\", activation=\"relu\"))\n",
        "    model.add(Conv2D(filters=512, kernel_size=(3,3), padding=\"same\", activation=\"relu\"))\n",
        "    model.add(Conv2D(filters=512, kernel_size=(3,3), padding=\"same\", activation=\"relu\"))\n",
        "    model.add(MaxPool2D(pool_size=(2,2),strides=(2,2),name='vgg16'))\n",
        "    model.add(Flatten(name='flatten'))\n",
        "    model.add(Dense(256, activation='relu', name='fc1'))\n",
        "    model.add(Dense(128, activation='relu', name='fc2'))\n",
        "    model.add(Dense(1, activation='sigmoid', name='output'))\n",
        "    return model\n"
      ],
      "execution_count": null,
      "outputs": []
    },
    {
      "cell_type": "code",
      "metadata": {
        "id": "rTrTzvgXDj1C"
      },
      "source": [
        "model=VGG16()"
      ],
      "execution_count": null,
      "outputs": []
    },
    {
      "cell_type": "code",
      "metadata": {
        "id": "Q5005OfJDlqw"
      },
      "source": [
        "\n",
        "model.summary()"
      ],
      "execution_count": null,
      "outputs": []
    },
    {
      "cell_type": "code",
      "metadata": {
        "id": "mBQq-GywDoML"
      },
      "source": [
        "Vgg16 = Model(inputs=model.input, outputs=model.get_layer('vgg16').output)"
      ],
      "execution_count": null,
      "outputs": []
    },
    {
      "cell_type": "code",
      "metadata": {
        "id": "Eszr3NXtDqsp"
      },
      "source": [
        "Vgg16.load_weights(\"/content/gdrive/MyDrive/Colab Notebooks/vgg16_weights_tf_dim_ordering_tf_kernels_notop.h5\")"
      ],
      "execution_count": null,
      "outputs": []
    },
    {
      "cell_type": "code",
      "metadata": {
        "id": "sMuG6tPQDs0R"
      },
      "source": [
        "\n",
        "for layer in Vgg16.layers:\n",
        "    layer.trainable = False"
      ],
      "execution_count": null,
      "outputs": []
    },
    {
      "cell_type": "code",
      "metadata": {
        "id": "EJeDpilUDuht"
      },
      "source": [
        "\n",
        "for layer in model.layers:\n",
        "    print(layer, layer.trainable)"
      ],
      "execution_count": null,
      "outputs": []
    },
    {
      "cell_type": "code",
      "metadata": {
        "id": "2PIZk4E5Dwxp"
      },
      "source": [
        "opt = SGD(lr=1e-4, momentum=0.9)\n",
        "model.compile(loss=\"binary_crossentropy\", optimizer=opt,metrics=[\"accuracy\"])"
      ],
      "execution_count": null,
      "outputs": []
    },
    {
      "cell_type": "code",
      "metadata": {
        "id": "7ghSpasWD1b8"
      },
      "source": [
        "es=EarlyStopping(monitor='val_accuracy', mode='max', verbose=1, patience=20)"
      ],
      "execution_count": null,
      "outputs": []
    },
    {
      "cell_type": "code",
      "metadata": {
        "id": "JvGYg5hSD3tB"
      },
      "source": [
        "mc = ModelCheckpoint('/content/gdrive/My Drive/best_model.h5', monitor='val_accuracy', mode='max', save_best_only=True)"
      ],
      "execution_count": null,
      "outputs": []
    },
    {
      "cell_type": "code",
      "metadata": {
        "id": "9R6IyzhED5nf"
      },
      "source": [
        "model.load_weights(\"/content/gdrive/My Drive/best_model.h5\")"
      ],
      "execution_count": null,
      "outputs": []
    },
    {
      "cell_type": "code",
      "metadata": {
        "id": "1U_PNnPFD86_"
      },
      "source": [
        "model.evaluate_generator(test_generator)"
      ],
      "execution_count": null,
      "outputs": []
    },
    {
      "cell_type": "code",
      "metadata": {
        "id": "zK0gHBzXD-dL"
      },
      "source": [
        "model_json = model.to_json()\n",
        "with open(\"/content/gdrive/My Drive/model.json\",\"w\") as json_file:\n",
        "  json_file.write(model_json)"
      ],
      "execution_count": null,
      "outputs": []
    },
    {
      "cell_type": "markdown",
      "metadata": {
        "id": "NytuUwa1EB92"
      },
      "source": [
        "\n",
        "Dogs Vs Cat Classification Inference Program\n",
        "To recap what we have done till now –\n",
        "\n",
        "We implemented the VGG16 model with Keras.\n",
        "\n",
        "We saved the best training weights of the model in a file for future use.\n",
        "\n",
        "We saved the model in JSON format for reusability.\n",
        "\n",
        "Now it is time to write an inference program that will do the following –\n",
        "\n",
        "Load the model that we saved in JSON format earlier.\n",
        "\n",
        "Load the weight that we saved after training the model earlier.\n",
        "\n",
        "Compile the model.\n",
        "\n",
        "Load the image that we want to classify.\n",
        "\n",
        "Perform classification."
      ]
    },
    {
      "cell_type": "code",
      "metadata": {
        "id": "Khauxo8BEC8H"
      },
      "source": [
        "from keras.models import model_from_json"
      ],
      "execution_count": null,
      "outputs": []
    },
    {
      "cell_type": "code",
      "metadata": {
        "id": "nF4dDBP6EGXP"
      },
      "source": [
        "def predict_(image_path):\n",
        "    #Load the Model from Json File\n",
        "    json_file = open('/content/gdrive/My Drive/model.json', 'r')\n",
        "    model_json_c = json_file.read()\n",
        "    json_file.close()\n",
        "    model_c = model_from_json(model_json_c)\n",
        "    #Load the weights\n",
        "    model_c.load_weights(\"/content/gdrive/My Drive/best_model.h5\")\n",
        "    #Compile the model\n",
        "    opt = SGD(lr=1e-4, momentum=0.9)\n",
        "    model_c.compile(loss=\"categorical_crossentropy\", optimizer=opt,metrics=[\"accuracy\"])\n",
        "    #load the image you want to classify\n",
        "    image = cv2.imread(image_path)\n",
        "    image = cv2.resize(image, (224,224))\n",
        "    cv2_imshow(image)\n",
        "    #predict the image\n",
        "    preds = model_c.predict(np.expand_dims(image, axis=0))[0]\n",
        "    if preds==0:\n",
        "        print(\"Predicted Label:Cat\")\n",
        "    else:\n",
        "        print(\"Predicted Label: Dog\")"
      ],
      "execution_count": null,
      "outputs": []
    },
    {
      "cell_type": "code",
      "metadata": {
        "id": "RDaY88cYEIok"
      },
      "source": [
        "predict_(\"/content/gdrive/MyDrive/Colab Notebooks/Train/dog/dog001.jpg\")\n"
      ],
      "execution_count": null,
      "outputs": []
    },
    {
      "cell_type": "code",
      "metadata": {
        "id": "jdl-5g3QEK6Q"
      },
      "source": [
        "predict_(\"/content/gdrive/MyDrive/Colab Notebooks/Train/cat/cat001.jpg\")"
      ],
      "execution_count": null,
      "outputs": []
    }
  ]
}