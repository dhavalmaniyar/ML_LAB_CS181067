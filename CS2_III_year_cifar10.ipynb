{
  "nbformat": 4,
  "nbformat_minor": 0,
  "metadata": {
    "colab": {
      "name": "CS2_III_year_cifar10.ipynb",
      "provenance": []
    },
    "kernelspec": {
      "name": "python3",
      "display_name": "Python 3"
    },
    "language_info": {
      "name": "python"
    }
  },
  "cells": [
    {
      "cell_type": "code",
      "metadata": {
        "id": "iUxCcIue7DsV"
      },
      "source": [
        "import warnings\n",
        "warnings.filterwarnings('ignore')\n",
        "\n",
        "import numpy as np\n",
        "import matplotlib.pyplot as plt\n",
        "import keras\n",
        "from keras.datasets import mnist\n",
        "from keras.models import Sequential,model_from_json\n",
        "from keras.layers import Dense\n",
        "from keras.optimizers import RMSprop\n",
        "import pylab as plt\n"
      ],
      "execution_count": 1,
      "outputs": []
    },
    {
      "cell_type": "code",
      "metadata": {
        "colab": {
          "base_uri": "https://localhost:8080/"
        },
        "id": "5c8UP11p7OPV",
        "outputId": "621e6382-a9bf-44ba-cddf-84b7a1e68ff1"
      },
      "source": [
        "from keras.datasets import cifar10\n",
        "batch_size = 128\n",
        "num_classes = 10\n",
        "epochs = 2\n",
        "\n",
        "# the data, split between train and test sets\n",
        "(x_train, y_train), (x_test, y_test) = cifar10.load_data()\n",
        "print('x_train shape:', x_train.shape)\n",
        "print(x_train.shape[0], 'train samples')\n",
        "print(x_test.shape[0], 'test samples')\n",
        "\n",
        "x_train = x_train.reshape(50000, 3072)\n",
        "x_test = x_test.reshape(10000, 3072)\n",
        "x_train = x_train.astype('float32')\n",
        "x_test = x_test.astype('float32')\n",
        "\n",
        "# Normalize to 0 to 1 range\n",
        "x_train /= 255\n",
        "x_test /= 255\n",
        "\n",
        "print(x_train.shape[0], 'train samples')\n",
        "print(x_test.shape[0], 'test samples')\n",
        "# convert class vectors to binary class matrices\n",
        "y_train = keras.utils.to_categorical(y_train, num_classes)\n",
        "y_test = keras.utils.to_categorical(y_test, num_classes)"
      ],
      "execution_count": 2,
      "outputs": [
        {
          "output_type": "stream",
          "text": [
            "Downloading data from https://www.cs.toronto.edu/~kriz/cifar-10-python.tar.gz\n",
            "170500096/170498071 [==============================] - 11s 0us/step\n",
            "x_train shape: (50000, 32, 32, 3)\n",
            "50000 train samples\n",
            "10000 test samples\n",
            "50000 train samples\n",
            "10000 test samples\n"
          ],
          "name": "stdout"
        }
      ]
    },
    {
      "cell_type": "code",
      "metadata": {
        "colab": {
          "base_uri": "https://localhost:8080/",
          "height": 284
        },
        "id": "xAHk4eEb7US_",
        "outputId": "62793010-de93-425c-eb7a-e6ff70257f89"
      },
      "source": [
        "print(\"Label:\",y_test[12:13])\n",
        "plt.imshow(x_test[12:13].reshape(32,32,3), cmap='gray')\n",
        "plt.show()"
      ],
      "execution_count": 3,
      "outputs": [
        {
          "output_type": "stream",
          "text": [
            "Label: [[0. 0. 0. 0. 0. 1. 0. 0. 0. 0.]]\n"
          ],
          "name": "stdout"
        },
        {
          "output_type": "display_data",
          "data": {
            "image/png": "[encoded data removed]",
            "text/plain": [
              "<Figure size 432x288 with 1 Axes>"
            ]
          },
          "metadata": {
            "tags": [],
            "needs_background": "light"
          }
        }
      ]
    },
    {
      "cell_type": "code",
      "metadata": {
        "colab": {
          "base_uri": "https://localhost:8080/"
        },
        "id": "QuQRwaC07cG6",
        "outputId": "68c3dbf2-9873-4a11-ed97-f7d3d8768e7e"
      },
      "source": [
        "from keras.layers import Dropout\n",
        "from keras.optimizers import RMSprop\n",
        "\n",
        "model = Sequential()\n",
        "\n",
        "model.add(Dense(2048,activation='relu', input_shape=(3072,)))\n",
        "\n",
        "model.add(Dense(1024, activation='relu'))\n",
        "\n",
        "model.add(Dense(512, activation='relu'))\n",
        "model.add(Dense(128, activation='relu'))\n",
        "model.add(Dense(64, activation='relu'))\n",
        "model.add(Dense(32, activation='relu'))\n",
        "model.add(Dense(num_classes, activation='softmax'))\n",
        "\n",
        "model.summary()\n",
        "#multiclassthereforecategoricalcrossentropy\n",
        "model.compile(loss='categorical_crossentropy',\n",
        "              optimizer=RMSprop(),\n",
        "              metrics=['accuracy'])\n",
        "\n",
        "history = model.fit(x_train, y_train,\n",
        "                    batch_size=batch_size,\n",
        "                    epochs=5,\n",
        "                    verbose=1,\n",
        "                    validation_data=(x_test, y_test))\n",
        "score = model.evaluate(x_test, y_test, verbose=0)\n",
        "print('Test loss:', score[0])\n",
        "print('Test accuracy:', score[1])"
      ],
      "execution_count": 4,
      "outputs": [
        {
          "output_type": "stream",
          "text": [
            "Model: \"sequential\"\n",
            "_________________________________________________________________\n",
            "Layer (type)                 Output Shape              Param #   \n",
            "=================================================================\n",
            "dense (Dense)                (None, 2048)              6293504   \n",
            "_________________________________________________________________\n",
            "dense_1 (Dense)              (None, 1024)              2098176   \n",
            "_________________________________________________________________\n",
            "dense_2 (Dense)              (None, 512)               524800    \n",
            "_________________________________________________________________\n",
            "dense_3 (Dense)              (None, 128)               65664     \n",
            "_________________________________________________________________\n",
            "dense_4 (Dense)              (None, 64)                8256      \n",
            "_________________________________________________________________\n",
            "dense_5 (Dense)              (None, 32)                2080      \n",
            "_________________________________________________________________\n",
            "dense_6 (Dense)              (None, 10)                330       \n",
            "=================================================================\n",
            "Total params: 8,992,810\n",
            "Trainable params: 8,992,810\n",
            "Non-trainable params: 0\n",
            "_________________________________________________________________\n",
            "Epoch 1/5\n",
            "391/391 [==============================] - 62s 156ms/step - loss: 2.6672 - accuracy: 0.1531 - val_loss: 2.0658 - val_accuracy: 0.2473\n",
            "Epoch 2/5\n",
            "391/391 [==============================] - 63s 162ms/step - loss: 1.9097 - accuracy: 0.3127 - val_loss: 1.8411 - val_accuracy: 0.3260\n",
            "Epoch 3/5\n",
            "391/391 [==============================] - 62s 159ms/step - loss: 1.7985 - accuracy: 0.3537 - val_loss: 1.8127 - val_accuracy: 0.3584\n",
            "Epoch 4/5\n",
            "391/391 [==============================] - 62s 159ms/step - loss: 1.7143 - accuracy: 0.3839 - val_loss: 1.8423 - val_accuracy: 0.3556\n",
            "Epoch 5/5\n",
            "391/391 [==============================] - 63s 162ms/step - loss: 1.6650 - accuracy: 0.4019 - val_loss: 1.7048 - val_accuracy: 0.4005\n",
            "Test loss: 1.7048109769821167\n",
            "Test accuracy: 0.40049999952316284\n"
          ],
          "name": "stdout"
        }
      ]
    },
    {
      "cell_type": "code",
      "metadata": {
        "colab": {
          "base_uri": "https://localhost:8080/"
        },
        "id": "j1zai-uE7hRj",
        "outputId": "60a2385d-ddbc-48ae-af98-ceed03f13747"
      },
      "source": [
        "from keras.layers import Dropout\n",
        "from keras.optimizers import Adam\n",
        "\n",
        "model = Sequential()\n",
        "\n",
        "model.add(Dense(4096,activation='tanh', input_shape=(3072,)))\n",
        "\n",
        "model.add(Dense(1024, activation='relu'))\n",
        "\n",
        "model.add(Dense(512, activation='relu'))\n",
        "model.add(Dense(128, activation='relu'))\n",
        "model.add(Dense(64, activation='relu'))\n",
        "model.add(Dense(32, activation='relu'))\n",
        "model.add(Dense(num_classes, activation='softmax'))\n",
        "\n",
        "model.summary()\n",
        "model.compile(loss='categorical_crossentropy',\n",
        "              optimizer=Adam(),\n",
        "              metrics=['accuracy'])\n",
        "\n",
        "history = model.fit(x_train, y_train,\n",
        "                    batch_size=batch_size,\n",
        "                    epochs=5,\n",
        "                    verbose=1,\n",
        "                    validation_data=(x_test, y_test))\n",
        "score = model.evaluate(x_test, y_test, verbose=0)\n",
        "print('Test loss:', score[0])\n",
        "print('Test accuracy:', score[1])"
      ],
      "execution_count": 5,
      "outputs": [
        {
          "output_type": "stream",
          "text": [
            "Model: \"sequential_1\"\n",
            "_________________________________________________________________\n",
            "Layer (type)                 Output Shape              Param #   \n",
            "=================================================================\n",
            "dense_7 (Dense)              (None, 4096)              12587008  \n",
            "_________________________________________________________________\n",
            "dense_8 (Dense)              (None, 1024)              4195328   \n",
            "_________________________________________________________________\n",
            "dense_9 (Dense)              (None, 512)               524800    \n",
            "_________________________________________________________________\n",
            "dense_10 (Dense)             (None, 128)               65664     \n",
            "_________________________________________________________________\n",
            "dense_11 (Dense)             (None, 64)                8256      \n",
            "_________________________________________________________________\n",
            "dense_12 (Dense)             (None, 32)                2080      \n",
            "_________________________________________________________________\n",
            "dense_13 (Dense)             (None, 10)                330       \n",
            "=================================================================\n",
            "Total params: 17,383,466\n",
            "Trainable params: 17,383,466\n",
            "Non-trainable params: 0\n",
            "_________________________________________________________________\n",
            "Epoch 1/5\n",
            "391/391 [==============================] - 103s 263ms/step - loss: 2.2100 - accuracy: 0.1752 - val_loss: 1.9547 - val_accuracy: 0.2758\n",
            "Epoch 2/5\n",
            "391/391 [==============================] - 100s 256ms/step - loss: 1.9003 - accuracy: 0.2977 - val_loss: 1.8605 - val_accuracy: 0.3087\n",
            "Epoch 3/5\n",
            "391/391 [==============================] - 99s 253ms/step - loss: 1.8327 - accuracy: 0.3232 - val_loss: 1.8502 - val_accuracy: 0.3257\n",
            "Epoch 4/5\n",
            "391/391 [==============================] - 99s 253ms/step - loss: 1.8178 - accuracy: 0.3319 - val_loss: 1.8810 - val_accuracy: 0.3045\n",
            "Epoch 5/5\n",
            "391/391 [==============================] - 100s 256ms/step - loss: 1.8107 - accuracy: 0.3384 - val_loss: 1.8026 - val_accuracy: 0.3395\n",
            "Test loss: 1.8025728464126587\n",
            "Test accuracy: 0.3395000100135803\n"
          ],
          "name": "stdout"
        }
      ]
    },
    {
      "cell_type": "code",
      "metadata": {
        "colab": {
          "base_uri": "https://localhost:8080/"
        },
        "id": "sBH5L5mY8D3g",
        "outputId": "402378a4-f293-4a2c-b1e3-dc69758010cd"
      },
      "source": [
        "from keras.layers import Dropout\n",
        "from keras.optimizers import Adam\n",
        "\n",
        "model = Sequential()\n",
        "\n",
        "model.add(Dense(4096,activation='relu', input_shape=(3072,)))\n",
        "\n",
        "model.add(Dense(1024, activation='relu'))\n",
        "\n",
        "model.add(Dense(512, activation='relu'))\n",
        "model.add(Dense(128, activation='relu'))\n",
        "model.add(Dense(64, activation='relu'))\n",
        "model.add(Dense(32, activation='relu'))\n",
        "model.add(Dense(num_classes, activation='softmax'))\n",
        "\n",
        "model.summary()\n",
        "model.compile(loss='categorical_crossentropy',\n",
        "              optimizer=Adam(),\n",
        "              metrics=['accuracy'])\n",
        "\n",
        "history = model.fit(x_train, y_train,\n",
        "                    batch_size=batch_size,\n",
        "                    epochs=10,\n",
        "                    verbose=1,\n",
        "                    validation_data=(x_test, y_test))\n",
        "score = model.evaluate(x_test, y_test, verbose=0)\n",
        "print('Test loss:', score[0])\n",
        "print('Test accuracy:', score[1])"
      ],
      "execution_count": 6,
      "outputs": [
        {
          "output_type": "stream",
          "text": [
            "Model: \"sequential_2\"\n",
            "_________________________________________________________________\n",
            "Layer (type)                 Output Shape              Param #   \n",
            "=================================================================\n",
            "dense_14 (Dense)             (None, 4096)              12587008  \n",
            "_________________________________________________________________\n",
            "dense_15 (Dense)             (None, 1024)              4195328   \n",
            "_________________________________________________________________\n",
            "dense_16 (Dense)             (None, 512)               524800    \n",
            "_________________________________________________________________\n",
            "dense_17 (Dense)             (None, 128)               65664     \n",
            "_________________________________________________________________\n",
            "dense_18 (Dense)             (None, 64)                8256      \n",
            "_________________________________________________________________\n",
            "dense_19 (Dense)             (None, 32)                2080      \n",
            "_________________________________________________________________\n",
            "dense_20 (Dense)             (None, 10)                330       \n",
            "=================================================================\n",
            "Total params: 17,383,466\n",
            "Trainable params: 17,383,466\n",
            "Non-trainable params: 0\n",
            "_________________________________________________________________\n",
            "Epoch 1/10\n",
            "391/391 [==============================] - 104s 264ms/step - loss: 2.2019 - accuracy: 0.1928 - val_loss: 1.8371 - val_accuracy: 0.3119\n",
            "Epoch 2/10\n",
            "391/391 [==============================] - 103s 264ms/step - loss: 1.8155 - accuracy: 0.3426 - val_loss: 1.7060 - val_accuracy: 0.3878\n",
            "Epoch 3/10\n",
            "391/391 [==============================] - 102s 261ms/step - loss: 1.6797 - accuracy: 0.3936 - val_loss: 1.6143 - val_accuracy: 0.4220\n",
            "Epoch 4/10\n",
            "391/391 [==============================] - 101s 259ms/step - loss: 1.6053 - accuracy: 0.4243 - val_loss: 1.5723 - val_accuracy: 0.4408\n",
            "Epoch 5/10\n",
            "391/391 [==============================] - 102s 260ms/step - loss: 1.5488 - accuracy: 0.4440 - val_loss: 1.5104 - val_accuracy: 0.4644\n",
            "Epoch 6/10\n",
            "391/391 [==============================] - 102s 261ms/step - loss: 1.4950 - accuracy: 0.4622 - val_loss: 1.4909 - val_accuracy: 0.4695\n",
            "Epoch 7/10\n",
            "391/391 [==============================] - 102s 261ms/step - loss: 1.4436 - accuracy: 0.4850 - val_loss: 1.4534 - val_accuracy: 0.4803\n",
            "Epoch 8/10\n",
            "391/391 [==============================] - 103s 262ms/step - loss: 1.4014 - accuracy: 0.5005 - val_loss: 1.4701 - val_accuracy: 0.4720\n",
            "Epoch 9/10\n",
            "391/391 [==============================] - 103s 262ms/step - loss: 1.3588 - accuracy: 0.5130 - val_loss: 1.4120 - val_accuracy: 0.5005\n",
            "Epoch 10/10\n",
            "391/391 [==============================] - 102s 260ms/step - loss: 1.3273 - accuracy: 0.5225 - val_loss: 1.4386 - val_accuracy: 0.5032\n",
            "Test loss: 1.4385687112808228\n",
            "Test accuracy: 0.5031999945640564\n"
          ],
          "name": "stdout"
        }
      ]
    },
    {
      "cell_type": "code",
      "metadata": {
        "colab": {
          "base_uri": "https://localhost:8080/"
        },
        "id": "nQlFFvZ08Gei",
        "outputId": "ebf59077-33a4-42ae-fa18-178f47f2d72c"
      },
      "source": [
        "from keras.layers import Dropout\n",
        "from keras.optimizers import Adam\n",
        "\n",
        "model = Sequential()\n",
        "\n",
        "model.add(Dense(1024,activation='relu', input_shape=(3072,)))\n",
        "\n",
        "model.add(Dense(1024, activation='relu'))\n",
        "\n",
        "model.add(Dense(512, activation='relu'))\n",
        "model.add(Dense(128, activation='relu'))\n",
        "model.add(Dense(64, activation='relu'))\n",
        "model.add(Dense(32, activation='relu'))\n",
        "model.add(Dense(num_classes, activation='softmax'))\n",
        "\n",
        "model.summary()\n",
        "model.compile(loss='categorical_crossentropy',\n",
        "              optimizer=Adam(),\n",
        "              metrics=['accuracy'])\n",
        "\n",
        "history = model.fit(x_train, y_train,\n",
        "                    batch_size=batch_size,\n",
        "                    epochs=15,\n",
        "                    verbose=1,\n",
        "                    validation_data=(x_test, y_test))\n",
        "score = model.evaluate(x_test, y_test, verbose=0)\n",
        "print('Test loss:', score[0])\n",
        "print('Test accuracy:', score[1])"
      ],
      "execution_count": 7,
      "outputs": [
        {
          "output_type": "stream",
          "text": [
            "Model: \"sequential_3\"\n",
            "_________________________________________________________________\n",
            "Layer (type)                 Output Shape              Param #   \n",
            "=================================================================\n",
            "dense_21 (Dense)             (None, 1024)              3146752   \n",
            "_________________________________________________________________\n",
            "dense_22 (Dense)             (None, 1024)              1049600   \n",
            "_________________________________________________________________\n",
            "dense_23 (Dense)             (None, 512)               524800    \n",
            "_________________________________________________________________\n",
            "dense_24 (Dense)             (None, 128)               65664     \n",
            "_________________________________________________________________\n",
            "dense_25 (Dense)             (None, 64)                8256      \n",
            "_________________________________________________________________\n",
            "dense_26 (Dense)             (None, 32)                2080      \n",
            "_________________________________________________________________\n",
            "dense_27 (Dense)             (None, 10)                330       \n",
            "=================================================================\n",
            "Total params: 4,797,482\n",
            "Trainable params: 4,797,482\n",
            "Non-trainable params: 0\n",
            "_________________________________________________________________\n",
            "Epoch 1/15\n",
            "391/391 [==============================] - 30s 76ms/step - loss: 2.1462 - accuracy: 0.1977 - val_loss: 1.8149 - val_accuracy: 0.3325\n",
            "Epoch 2/15\n",
            "391/391 [==============================] - 29s 75ms/step - loss: 1.7851 - accuracy: 0.3546 - val_loss: 1.6725 - val_accuracy: 0.3978\n",
            "Epoch 3/15\n",
            "391/391 [==============================] - 30s 76ms/step - loss: 1.6494 - accuracy: 0.4043 - val_loss: 1.5958 - val_accuracy: 0.4302\n",
            "Epoch 4/15\n",
            "391/391 [==============================] - 29s 75ms/step - loss: 1.5784 - accuracy: 0.4325 - val_loss: 1.5275 - val_accuracy: 0.4569\n",
            "Epoch 5/15\n",
            "391/391 [==============================] - 30s 76ms/step - loss: 1.5304 - accuracy: 0.4503 - val_loss: 1.5283 - val_accuracy: 0.4554\n",
            "Epoch 6/15\n",
            "391/391 [==============================] - 30s 77ms/step - loss: 1.4755 - accuracy: 0.4713 - val_loss: 1.4938 - val_accuracy: 0.4688\n",
            "Epoch 7/15\n",
            "391/391 [==============================] - 30s 76ms/step - loss: 1.4268 - accuracy: 0.4869 - val_loss: 1.4626 - val_accuracy: 0.4774\n",
            "Epoch 8/15\n",
            "391/391 [==============================] - 30s 76ms/step - loss: 1.3836 - accuracy: 0.5043 - val_loss: 1.4421 - val_accuracy: 0.4866\n",
            "Epoch 9/15\n",
            "391/391 [==============================] - 30s 77ms/step - loss: 1.3594 - accuracy: 0.5109 - val_loss: 1.4366 - val_accuracy: 0.4943\n",
            "Epoch 10/15\n",
            "391/391 [==============================] - 30s 77ms/step - loss: 1.3184 - accuracy: 0.5219 - val_loss: 1.4275 - val_accuracy: 0.4945\n",
            "Epoch 11/15\n",
            "391/391 [==============================] - 30s 77ms/step - loss: 1.2946 - accuracy: 0.5379 - val_loss: 1.4184 - val_accuracy: 0.4948\n",
            "Epoch 12/15\n",
            "391/391 [==============================] - 30s 76ms/step - loss: 1.2511 - accuracy: 0.5482 - val_loss: 1.3972 - val_accuracy: 0.5032\n",
            "Epoch 13/15\n",
            "391/391 [==============================] - 30s 76ms/step - loss: 1.2138 - accuracy: 0.5626 - val_loss: 1.4156 - val_accuracy: 0.5029\n",
            "Epoch 14/15\n",
            "391/391 [==============================] - 30s 76ms/step - loss: 1.1915 - accuracy: 0.5759 - val_loss: 1.3760 - val_accuracy: 0.5102\n",
            "Epoch 15/15\n",
            "391/391 [==============================] - 30s 78ms/step - loss: 1.1334 - accuracy: 0.5910 - val_loss: 1.3787 - val_accuracy: 0.5198\n",
            "Test loss: 1.378688097000122\n",
            "Test accuracy: 0.5198000073432922\n"
          ],
          "name": "stdout"
        }
      ]
    },
    {
      "cell_type": "code",
      "metadata": {
        "id": "-WejftMm8Jbu"
      },
      "source": [
        "#history = model.fit(x_train, y_train, validation_split=0.33, epochs=150, batch_size=10, verbose=0)\n",
        "# list all data in history\n",
        "print(history.history.keys())\n",
        "# summarize history for accuracy\n",
        "plt.plot(history.history['acc'])\n",
        "plt.plot(history.history['val_acc'])\n",
        "plt.title('model accuracy')\n",
        "plt.ylabel('accuracy')\n",
        "plt.xlabel('epoch')\n",
        "plt.legend(['train', 'test'], loc='upper left')\n",
        "plt.show()\n",
        "# summarize history for loss\n",
        "plt.plot(history.history['loss'])\n",
        "plt.plot(history.history['val_loss'])\n",
        "plt.title('model loss')\n",
        "plt.ylabel('loss')\n",
        "plt.xlabel('epoch')\n",
        "plt.legend(['train', 'test'], loc='upper left')\n",
        "plt.show()"
      ],
      "execution_count": null,
      "outputs": []
    },
    {
      "cell_type": "code",
      "metadata": {
        "id": "_iDnBQjN8Mov"
      },
      "source": [
        "from keras.datasets import cifar10\n",
        "batch_size = 128\n",
        "num_classes = 10\n",
        "epochs = 2\n",
        "\n",
        "# the data, split between train and test sets\n",
        "(x_train, y_train), (x_test, y_test) = cifar100.load_data()\n",
        "print('x_train shape:', x_train.shape)\n",
        "print(x_train.shape[0], 'train samples')\n",
        "print(x_test.shape[0], 'test samples')\n",
        "\n",
        "x_train = x_train.reshape(50000, 3072)\n",
        "x_test = x_test.reshape(10000, 3072)\n",
        "x_train = x_train.astype('float32')\n",
        "x_test = x_test.astype('float32')\n",
        "\n",
        "# Normalize to 0 to 1 range\n",
        "x_train /= 255\n",
        "x_test /= 255\n",
        "\n",
        "print(x_train.shape[0], 'train samples')\n",
        "print(x_test.shape[0], 'test samples')\n",
        "# convert class vectors to binary class matrices\n",
        "y_train = keras.utils.to_categorical(y_train, num_classes)\n",
        "y_test = keras.utils.to_categorical(y_test, num_classes)"
      ],
      "execution_count": null,
      "outputs": []
    },
    {
      "cell_type": "code",
      "metadata": {
        "id": "oimEcXBe8O6a"
      },
      "source": [
        "from keras.layers import Dropout\n",
        "from keras.optimizers import Adam\n",
        "\n",
        "model = Sequential()\n",
        "\n",
        "model.add(Dense(4096,activation='relu', input_shape=(3072,)))\n",
        "\n",
        "model.add(Dense(1024, activation='relu'))\n",
        "\n",
        "model.add(Dense(512, activation='relu'))\n",
        "model.add(Dense(128, activation='relu'))\n",
        "model.add(Dense(64, activation='relu'))\n",
        "model.add(Dense(32, activation='relu'))\n",
        "model.add(Dense(num_classes, activation='softmax'))\n",
        "\n",
        "model.summary()\n",
        "model.compile(loss='categorical_crossentropy',\n",
        "              optimizer=Adam(),\n",
        "              metrics=['accuracy'])\n",
        "\n",
        "history = model.fit(x_train, y_train,\n",
        "                    batch_size=batch_size,\n",
        "                    epochs=10,\n",
        "                    verbose=1,\n",
        "                    validation_data=(x_test, y_test))\n",
        "score = model.evaluate(x_test, y_test, verbose=0)\n",
        "print('Test loss:', score[0])\n",
        "print('Test accuracy:', score[1])"
      ],
      "execution_count": null,
      "outputs": []
    }
  ]
}